{
 "cells": [
  {
   "cell_type": "markdown",
   "id": "eedce995-76be-4222-aaeb-a8a8ca090fd9",
   "metadata": {},
   "source": [
    "# Data Science Tools and Ecosystem"
   ]
  },
  {
   "cell_type": "markdown",
   "id": "ee6d918e-2f8c-43fc-92b6-20b476cc3b63",
   "metadata": {},
   "source": [
    "In this notebook, Data Science Tools and Ecosystem are summarized."
   ]
  },
  {
   "cell_type": "markdown",
   "id": "145f6aa0-258a-4c1f-a134-b651234462b3",
   "metadata": {},
   "source": [
    "Some of the popular languages that Data Scientists use are:\n",
    "\n",
    "* Python\n",
    "\n",
    "* R\n",
    "\n",
    "* SQL"
   ]
  },
  {
   "cell_type": "markdown",
   "id": "f9f99264-7590-4c7a-b83c-59488a3dc8a2",
   "metadata": {},
   "source": [
    "Some of the commonly used libraries used by Data Scientists include:\n",
    "\n",
    "1. Pandas\n",
    "\n",
    "2. Numpy\n",
    "\n",
    "3. Matplotlib"
   ]
  },
  {
   "cell_type": "markdown",
   "id": "195b0bd3-e595-4832-bfd0-8857ee5a5996",
   "metadata": {},
   "source": [
    "Data Science Tools\n",
    "\n",
    "| Tools          |                                                Description                                           |\n",
    "|----------------|------------------------------------------------------------------------------------------------------|\n",
    "|`Jupyter Notebook`|      `An open-source application, allows for data analysis and visualization in many languages`      |\n",
    "|TensorFlow      |      A popular open-source machine learning library for building and training neural networks        |\n",
    "|`PyTorch`         |      `An open-source machine learning library that provides a flexible way to build and train models`|"
   ]
  },
  {
   "cell_type": "markdown",
   "id": "8b07f772-5736-4525-84f7-ab83df1b55e2",
   "metadata": {},
   "source": [
    "# Below are some examples of arithmitic expressions in Python"
   ]
  },
  {
   "cell_type": "code",
   "execution_count": 1,
   "id": "d97cc30b-9afe-47df-8b05-075cef4f8bfa",
   "metadata": {},
   "outputs": [
    {
     "data": {
      "text/plain": [
       "17"
      ]
     },
     "execution_count": 1,
     "metadata": {},
     "output_type": "execute_result"
    }
   ],
   "source": [
    "#This is a simple arithmitic expression to multiply then add intigers\n",
    "(3*4)+5"
   ]
  },
  {
   "cell_type": "code",
   "execution_count": 8,
   "id": "83bc799d-33ab-4542-af8c-130e704de0d4",
   "metadata": {},
   "outputs": [
    {
     "name": "stdout",
     "output_type": "stream",
     "text": [
      "200 minutes is equal to 3 hours and 20 minutes\n"
     ]
    }
   ],
   "source": [
    "#This will convert 200 minutes to hours by diving by 60\n",
    "minutes = 200\n",
    "hours = minutes // 60\n",
    "remaining_minutes = minutes % 60\n",
    "print(f\"{minutes} minutes is equal to {hours} hours and {remaining_minutes} minutes\")"
   ]
  },
  {
   "cell_type": "markdown",
   "id": "f3ed72b8-fb2c-4571-84e6-8c0c3b5e676d",
   "metadata": {},
   "source": [
    "# Objectives:\n",
    "\n",
    "* List of popular data science languages\n",
    "\n",
    "* List of common data science libraries\n",
    "\n",
    "* List of common data science tools\n",
    "\n",
    "* Create a simple arithmetic expression"
   ]
  },
  {
   "cell_type": "markdown",
   "id": "d30708a0-4737-4b00-9225-4f5c9edca1f1",
   "metadata": {},
   "source": [
    "## Author\n",
    "\n",
    "KahFui Low"
   ]
  },
  {
   "cell_type": "code",
   "execution_count": null,
   "id": "dbf125bc-8c7a-48e5-821a-f8e838e5f831",
   "metadata": {},
   "outputs": [],
   "source": []
  }
 ],
 "metadata": {
  "kernelspec": {
   "display_name": "Python",
   "language": "python",
   "name": "conda-env-python-py"
  },
  "language_info": {
   "codemirror_mode": {
    "name": "ipython",
    "version": 3
   },
   "file_extension": ".py",
   "mimetype": "text/x-python",
   "name": "python",
   "nbconvert_exporter": "python",
   "pygments_lexer": "ipython3",
   "version": "3.7.12"
  }
 },
 "nbformat": 4,
 "nbformat_minor": 5
}
